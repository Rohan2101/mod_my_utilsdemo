{
 "cells": [
  {
   "cell_type": "code",
   "execution_count": null,
   "metadata": {
    "id": "baece286"
   },
   "outputs": [],
   "source": [
    "from mod_my_utils.test_methods \n",
    "import get_price_csv, get_price_yahoo"
   ]
  },
  {
   "cell_type": "code",
   "execution_count": null,
   "metadata": {
    "id": "hgJHRHKsNDL8"
   },
   "outputs": [],
   "source": []
  },
  {
   "cell_type": "code",
   "execution_count": null,
   "metadata": {
    "id": "daed2fbd"
   },
   "outputs": [],
   "source": [
    "symbols = [\"HDFC\", 'RELIANCE', 'TCS', 'HINDUNILVR', 'INFY', 'HDFC', 'BHARTIARTL', 'ITC', 'ASIANPAINT', 'NESTLEIND', 'HCLTECH', 'SBI', 'SBIN']"
   ]
  },
  {
   "cell_type": "code",
   "execution_count": null,
   "metadata": {
    "id": "ef719919",
    "outputId": "1931ed4f-3e29-4d73-b134-351494beba5d"
   },
   "outputs": [],
   "source": [
    "print(symbols)"
   ]
  },
  {
   "cell_type": "code",
   "execution_count": null,
   "metadata": {
    "id": "cd75d80e",
    "outputId": "b871c9e4-7c41-4279-c4e7-786c6df263e7"
   },
   "outputs": [
    {
     "name": "stdout",
     "output_type": "stream",
     "text": [
      "1/1/2010\n",
      "1/1/2015\n",
      "HDFC\n",
      "yahoo\n"
     ]
    }
   ],
   "source": [
    "symbol = symbols[0]\n",
    "data_source = \"yahoo\"\n",
    "# MM/DD/YYYY\n",
    "start_date = \"1/1/2010\"\n",
    "end_date = \"1/1/2015\"\n",
    "datasource = data_source\n",
    "print(start_date)\n",
    "print(end_date)\n",
    "print(symbol)\n",
    "print(datasource)"
   ]
  },
  {
   "cell_type": "code",
   "execution_count": null,
   "metadata": {
    "id": "247720c9"
   },
   "outputs": [],
   "source": [
    "folder_name = 'data/'\n",
    "stock = 'aapl'\n",
    "index_col = 'Date'"
   ]
  },
  {
   "cell_type": "code",
   "execution_count": null,
   "metadata": {
    "id": "8123e7ad",
    "outputId": "a126fc04-b619-47e9-9110-53131498d118"
   },
   "outputs": [
    {
     "name": "stdout",
     "output_type": "stream",
     "text": [
      "stock name:  aapl\n"
     ]
    },
    {
     "data": {
      "text/html": [
       "<div>\n",
       "<style scoped>\n",
       "    .dataframe tbody tr th:only-of-type {\n",
       "        vertical-align: middle;\n",
       "    }\n",
       "\n",
       "    .dataframe tbody tr th {\n",
       "        vertical-align: top;\n",
       "    }\n",
       "\n",
       "    .dataframe thead th {\n",
       "        text-align: right;\n",
       "    }\n",
       "</style>\n",
       "<table border=\"1\" class=\"dataframe\">\n",
       "  <thead>\n",
       "    <tr style=\"text-align: right;\">\n",
       "      <th></th>\n",
       "      <th>Open</th>\n",
       "      <th>High</th>\n",
       "      <th>Low</th>\n",
       "      <th>Close</th>\n",
       "      <th>Volume</th>\n",
       "      <th>Ex-Dividend</th>\n",
       "      <th>Split Ratio</th>\n",
       "      <th>Adj. Open</th>\n",
       "      <th>Adj. High</th>\n",
       "      <th>Adj. Low</th>\n",
       "      <th>Adj. Close</th>\n",
       "      <th>Adj. Volume</th>\n",
       "    </tr>\n",
       "    <tr>\n",
       "      <th>Date</th>\n",
       "      <th></th>\n",
       "      <th></th>\n",
       "      <th></th>\n",
       "      <th></th>\n",
       "      <th></th>\n",
       "      <th></th>\n",
       "      <th></th>\n",
       "      <th></th>\n",
       "      <th></th>\n",
       "      <th></th>\n",
       "      <th></th>\n",
       "      <th></th>\n",
       "    </tr>\n",
       "  </thead>\n",
       "  <tbody>\n",
       "    <tr>\n",
       "      <th>2007-12-03</th>\n",
       "      <td>181.86</td>\n",
       "      <td>184.14</td>\n",
       "      <td>177.70</td>\n",
       "      <td>178.8600</td>\n",
       "      <td>34338200.0</td>\n",
       "      <td>0.0</td>\n",
       "      <td>1.0</td>\n",
       "      <td>23.371545</td>\n",
       "      <td>23.664556</td>\n",
       "      <td>22.836927</td>\n",
       "      <td>22.986003</td>\n",
       "      <td>240367400.0</td>\n",
       "    </tr>\n",
       "    <tr>\n",
       "      <th>2007-12-04</th>\n",
       "      <td>177.15</td>\n",
       "      <td>180.90</td>\n",
       "      <td>176.99</td>\n",
       "      <td>179.8100</td>\n",
       "      <td>27635700.0</td>\n",
       "      <td>0.0</td>\n",
       "      <td>1.0</td>\n",
       "      <td>22.766244</td>\n",
       "      <td>23.248171</td>\n",
       "      <td>22.745682</td>\n",
       "      <td>23.108091</td>\n",
       "      <td>193449900.0</td>\n",
       "    </tr>\n",
       "    <tr>\n",
       "      <th>2007-12-05</th>\n",
       "      <td>182.89</td>\n",
       "      <td>186.00</td>\n",
       "      <td>182.41</td>\n",
       "      <td>185.5000</td>\n",
       "      <td>31871500.0</td>\n",
       "      <td>0.0</td>\n",
       "      <td>1.0</td>\n",
       "      <td>23.503914</td>\n",
       "      <td>23.903592</td>\n",
       "      <td>23.442227</td>\n",
       "      <td>23.839335</td>\n",
       "      <td>223100500.0</td>\n",
       "    </tr>\n",
       "    <tr>\n",
       "      <th>2007-12-06</th>\n",
       "      <td>186.19</td>\n",
       "      <td>190.10</td>\n",
       "      <td>186.12</td>\n",
       "      <td>189.9528</td>\n",
       "      <td>32136100.0</td>\n",
       "      <td>0.0</td>\n",
       "      <td>1.0</td>\n",
       "      <td>23.928010</td>\n",
       "      <td>24.430500</td>\n",
       "      <td>23.919014</td>\n",
       "      <td>24.411582</td>\n",
       "      <td>224952700.0</td>\n",
       "    </tr>\n",
       "    <tr>\n",
       "      <th>2007-12-07</th>\n",
       "      <td>190.54</td>\n",
       "      <td>194.99</td>\n",
       "      <td>188.04</td>\n",
       "      <td>194.3000</td>\n",
       "      <td>38073800.0</td>\n",
       "      <td>0.0</td>\n",
       "      <td>1.0</td>\n",
       "      <td>24.487046</td>\n",
       "      <td>25.058933</td>\n",
       "      <td>24.165761</td>\n",
       "      <td>24.970258</td>\n",
       "      <td>266516600.0</td>\n",
       "    </tr>\n",
       "    <tr>\n",
       "      <th>...</th>\n",
       "      <td>...</td>\n",
       "      <td>...</td>\n",
       "      <td>...</td>\n",
       "      <td>...</td>\n",
       "      <td>...</td>\n",
       "      <td>...</td>\n",
       "      <td>...</td>\n",
       "      <td>...</td>\n",
       "      <td>...</td>\n",
       "      <td>...</td>\n",
       "      <td>...</td>\n",
       "      <td>...</td>\n",
       "    </tr>\n",
       "    <tr>\n",
       "      <th>2017-11-27</th>\n",
       "      <td>175.05</td>\n",
       "      <td>175.08</td>\n",
       "      <td>173.34</td>\n",
       "      <td>174.0900</td>\n",
       "      <td>20536313.0</td>\n",
       "      <td>0.0</td>\n",
       "      <td>1.0</td>\n",
       "      <td>175.050000</td>\n",
       "      <td>175.080000</td>\n",
       "      <td>173.340000</td>\n",
       "      <td>174.090000</td>\n",
       "      <td>20536313.0</td>\n",
       "    </tr>\n",
       "    <tr>\n",
       "      <th>2017-11-28</th>\n",
       "      <td>174.30</td>\n",
       "      <td>174.87</td>\n",
       "      <td>171.86</td>\n",
       "      <td>173.0700</td>\n",
       "      <td>25468442.0</td>\n",
       "      <td>0.0</td>\n",
       "      <td>1.0</td>\n",
       "      <td>174.300000</td>\n",
       "      <td>174.870000</td>\n",
       "      <td>171.860000</td>\n",
       "      <td>173.070000</td>\n",
       "      <td>25468442.0</td>\n",
       "    </tr>\n",
       "    <tr>\n",
       "      <th>2017-11-29</th>\n",
       "      <td>172.63</td>\n",
       "      <td>172.92</td>\n",
       "      <td>167.16</td>\n",
       "      <td>169.4800</td>\n",
       "      <td>40788324.0</td>\n",
       "      <td>0.0</td>\n",
       "      <td>1.0</td>\n",
       "      <td>172.630000</td>\n",
       "      <td>172.920000</td>\n",
       "      <td>167.160000</td>\n",
       "      <td>169.480000</td>\n",
       "      <td>40788324.0</td>\n",
       "    </tr>\n",
       "    <tr>\n",
       "      <th>2017-11-30</th>\n",
       "      <td>170.43</td>\n",
       "      <td>172.14</td>\n",
       "      <td>168.44</td>\n",
       "      <td>171.8500</td>\n",
       "      <td>40172368.0</td>\n",
       "      <td>0.0</td>\n",
       "      <td>1.0</td>\n",
       "      <td>170.430000</td>\n",
       "      <td>172.140000</td>\n",
       "      <td>168.440000</td>\n",
       "      <td>171.850000</td>\n",
       "      <td>40172368.0</td>\n",
       "    </tr>\n",
       "    <tr>\n",
       "      <th>2017-12-01</th>\n",
       "      <td>169.95</td>\n",
       "      <td>171.67</td>\n",
       "      <td>168.50</td>\n",
       "      <td>171.0500</td>\n",
       "      <td>39590080.0</td>\n",
       "      <td>0.0</td>\n",
       "      <td>1.0</td>\n",
       "      <td>169.950000</td>\n",
       "      <td>171.670000</td>\n",
       "      <td>168.500000</td>\n",
       "      <td>171.050000</td>\n",
       "      <td>39590080.0</td>\n",
       "    </tr>\n",
       "  </tbody>\n",
       "</table>\n",
       "<p>2517 rows × 12 columns</p>\n",
       "</div>"
      ],
      "text/plain": [
       "              Open    High     Low     Close      Volume  Ex-Dividend  \\\n",
       "Date                                                                    \n",
       "2007-12-03  181.86  184.14  177.70  178.8600  34338200.0          0.0   \n",
       "2007-12-04  177.15  180.90  176.99  179.8100  27635700.0          0.0   \n",
       "2007-12-05  182.89  186.00  182.41  185.5000  31871500.0          0.0   \n",
       "2007-12-06  186.19  190.10  186.12  189.9528  32136100.0          0.0   \n",
       "2007-12-07  190.54  194.99  188.04  194.3000  38073800.0          0.0   \n",
       "...            ...     ...     ...       ...         ...          ...   \n",
       "2017-11-27  175.05  175.08  173.34  174.0900  20536313.0          0.0   \n",
       "2017-11-28  174.30  174.87  171.86  173.0700  25468442.0          0.0   \n",
       "2017-11-29  172.63  172.92  167.16  169.4800  40788324.0          0.0   \n",
       "2017-11-30  170.43  172.14  168.44  171.8500  40172368.0          0.0   \n",
       "2017-12-01  169.95  171.67  168.50  171.0500  39590080.0          0.0   \n",
       "\n",
       "            Split Ratio   Adj. Open   Adj. High    Adj. Low  Adj. Close  \\\n",
       "Date                                                                      \n",
       "2007-12-03          1.0   23.371545   23.664556   22.836927   22.986003   \n",
       "2007-12-04          1.0   22.766244   23.248171   22.745682   23.108091   \n",
       "2007-12-05          1.0   23.503914   23.903592   23.442227   23.839335   \n",
       "2007-12-06          1.0   23.928010   24.430500   23.919014   24.411582   \n",
       "2007-12-07          1.0   24.487046   25.058933   24.165761   24.970258   \n",
       "...                 ...         ...         ...         ...         ...   \n",
       "2017-11-27          1.0  175.050000  175.080000  173.340000  174.090000   \n",
       "2017-11-28          1.0  174.300000  174.870000  171.860000  173.070000   \n",
       "2017-11-29          1.0  172.630000  172.920000  167.160000  169.480000   \n",
       "2017-11-30          1.0  170.430000  172.140000  168.440000  171.850000   \n",
       "2017-12-01          1.0  169.950000  171.670000  168.500000  171.050000   \n",
       "\n",
       "            Adj. Volume  \n",
       "Date                     \n",
       "2007-12-03  240367400.0  \n",
       "2007-12-04  193449900.0  \n",
       "2007-12-05  223100500.0  \n",
       "2007-12-06  224952700.0  \n",
       "2007-12-07  266516600.0  \n",
       "...                 ...  \n",
       "2017-11-27   20536313.0  \n",
       "2017-11-28   25468442.0  \n",
       "2017-11-29   40788324.0  \n",
       "2017-11-30   40172368.0  \n",
       "2017-12-01   39590080.0  \n",
       "\n",
       "[2517 rows x 12 columns]"
      ]
     },
     "execution_count": 6,
     "metadata": {},
     "output_type": "execute_result"
    }
   ],
   "source": [
    "get_price_csv(folder_name, stock, index_col)"
   ]
  },
  {
   "cell_type": "code",
   "execution_count": null,
   "metadata": {
    "id": "8370add7",
    "outputId": "44e0f4eb-178e-4dc9-df92-6b52def512b7"
   },
   "outputs": [
    {
     "name": "stdout",
     "output_type": "stream",
     "text": [
      "stock name HDFC\n"
     ]
    }
   ],
   "source": [
    "data = get_price_yahoo(symbol, data_source, start_date, end_date)"
   ]
  },
  {
   "cell_type": "code",
   "execution_count": null,
   "metadata": {
    "id": "8631703f"
   },
   "outputs": [],
   "source": []
  },
  {
   "cell_type": "code",
   "execution_count": null,
   "metadata": {
    "id": "210d40ea",
    "outputId": "63777104-3591-4bc3-a017-4c0172aaf3df"
   },
   "outputs": [
    {
     "data": {
      "text/html": [
       "<div>\n",
       "<style scoped>\n",
       "    .dataframe tbody tr th:only-of-type {\n",
       "        vertical-align: middle;\n",
       "    }\n",
       "\n",
       "    .dataframe tbody tr th {\n",
       "        vertical-align: top;\n",
       "    }\n",
       "\n",
       "    .dataframe thead th {\n",
       "        text-align: right;\n",
       "    }\n",
       "</style>\n",
       "<table border=\"1\" class=\"dataframe\">\n",
       "  <thead>\n",
       "    <tr style=\"text-align: right;\">\n",
       "      <th></th>\n",
       "      <th>High</th>\n",
       "      <th>Low</th>\n",
       "      <th>Open</th>\n",
       "      <th>Close</th>\n",
       "      <th>Volume</th>\n",
       "      <th>Adj Close</th>\n",
       "    </tr>\n",
       "    <tr>\n",
       "      <th>Date</th>\n",
       "      <th></th>\n",
       "      <th></th>\n",
       "      <th></th>\n",
       "      <th></th>\n",
       "      <th></th>\n",
       "      <th></th>\n",
       "    </tr>\n",
       "  </thead>\n",
       "  <tbody>\n",
       "    <tr>\n",
       "      <th>2010-01-04</th>\n",
       "      <td>547.400024</td>\n",
       "      <td>533.170044</td>\n",
       "      <td>538.960022</td>\n",
       "      <td>534.869995</td>\n",
       "      <td>1176220.0</td>\n",
       "      <td>442.267731</td>\n",
       "    </tr>\n",
       "    <tr>\n",
       "      <th>2010-01-05</th>\n",
       "      <td>546.000000</td>\n",
       "      <td>533.220032</td>\n",
       "      <td>541.599976</td>\n",
       "      <td>536.690002</td>\n",
       "      <td>1650740.0</td>\n",
       "      <td>443.772614</td>\n",
       "    </tr>\n",
       "    <tr>\n",
       "      <th>2010-01-06</th>\n",
       "      <td>540.000000</td>\n",
       "      <td>532.250000</td>\n",
       "      <td>540.000000</td>\n",
       "      <td>539.270020</td>\n",
       "      <td>2017460.0</td>\n",
       "      <td>445.906036</td>\n",
       "    </tr>\n",
       "    <tr>\n",
       "      <th>2010-01-07</th>\n",
       "      <td>539.000000</td>\n",
       "      <td>525.109985</td>\n",
       "      <td>535.440002</td>\n",
       "      <td>529.229980</td>\n",
       "      <td>3453515.0</td>\n",
       "      <td>437.604218</td>\n",
       "    </tr>\n",
       "    <tr>\n",
       "      <th>2010-01-08</th>\n",
       "      <td>533.460022</td>\n",
       "      <td>518.070007</td>\n",
       "      <td>530.000000</td>\n",
       "      <td>520.010010</td>\n",
       "      <td>11425060.0</td>\n",
       "      <td>429.980438</td>\n",
       "    </tr>\n",
       "  </tbody>\n",
       "</table>\n",
       "</div>"
      ],
      "text/plain": [
       "                  High         Low        Open       Close      Volume  \\\n",
       "Date                                                                     \n",
       "2010-01-04  547.400024  533.170044  538.960022  534.869995   1176220.0   \n",
       "2010-01-05  546.000000  533.220032  541.599976  536.690002   1650740.0   \n",
       "2010-01-06  540.000000  532.250000  540.000000  539.270020   2017460.0   \n",
       "2010-01-07  539.000000  525.109985  535.440002  529.229980   3453515.0   \n",
       "2010-01-08  533.460022  518.070007  530.000000  520.010010  11425060.0   \n",
       "\n",
       "             Adj Close  \n",
       "Date                    \n",
       "2010-01-04  442.267731  \n",
       "2010-01-05  443.772614  \n",
       "2010-01-06  445.906036  \n",
       "2010-01-07  437.604218  \n",
       "2010-01-08  429.980438  "
      ]
     },
     "execution_count": 8,
     "metadata": {},
     "output_type": "execute_result"
    }
   ],
   "source": [
    "data.head()"
   ]
  },
  {
   "cell_type": "code",
   "execution_count": null,
   "metadata": {
    "id": "c4142e92"
   },
   "outputs": [],
   "source": []
  },
  {
   "cell_type": "code",
   "execution_count": null,
   "metadata": {
    "id": "f8dc8597"
   },
   "outputs": [],
   "source": []
  },
  {
   "cell_type": "code",
   "execution_count": null,
   "metadata": {
    "id": "656232d7",
    "outputId": "4f028749-7946-4e4a-c962-14492f7cf645"
   },
   "outputs": [
    {
     "data": {
      "text/html": [
       "<div>\n",
       "<style scoped>\n",
       "    .dataframe tbody tr th:only-of-type {\n",
       "        vertical-align: middle;\n",
       "    }\n",
       "\n",
       "    .dataframe tbody tr th {\n",
       "        vertical-align: top;\n",
       "    }\n",
       "\n",
       "    .dataframe thead th {\n",
       "        text-align: right;\n",
       "    }\n",
       "</style>\n",
       "<table border=\"1\" class=\"dataframe\">\n",
       "  <thead>\n",
       "    <tr style=\"text-align: right;\">\n",
       "      <th></th>\n",
       "      <th>price</th>\n",
       "    </tr>\n",
       "    <tr>\n",
       "      <th>Date</th>\n",
       "      <th></th>\n",
       "    </tr>\n",
       "  </thead>\n",
       "  <tbody>\n",
       "    <tr>\n",
       "      <th>2010-01-04</th>\n",
       "      <td>442.267731</td>\n",
       "    </tr>\n",
       "    <tr>\n",
       "      <th>2010-01-05</th>\n",
       "      <td>443.772614</td>\n",
       "    </tr>\n",
       "    <tr>\n",
       "      <th>2010-01-06</th>\n",
       "      <td>445.906036</td>\n",
       "    </tr>\n",
       "    <tr>\n",
       "      <th>2010-01-07</th>\n",
       "      <td>437.604218</td>\n",
       "    </tr>\n",
       "    <tr>\n",
       "      <th>2010-01-08</th>\n",
       "      <td>429.980438</td>\n",
       "    </tr>\n",
       "  </tbody>\n",
       "</table>\n",
       "</div>"
      ],
      "text/plain": [
       "                 price\n",
       "Date                  \n",
       "2010-01-04  442.267731\n",
       "2010-01-05  443.772614\n",
       "2010-01-06  445.906036\n",
       "2010-01-07  437.604218\n",
       "2010-01-08  429.980438"
      ]
     },
     "execution_count": 9,
     "metadata": {},
     "output_type": "execute_result"
    }
   ],
   "source": [
    "data = data[[\"Adj Close\"]].copy()\n",
    "data.columns = [\"price\"]\n",
    "data.head()"
   ]
  },
  {
   "cell_type": "code",
   "execution_count": null,
   "metadata": {
    "id": "dca7e855"
   },
   "outputs": [],
   "source": [
    "short_window = 20\n",
    "long_window = 50\n",
    "signal_window = 12"
   ]
  },
  {
   "cell_type": "code",
   "execution_count": null,
   "metadata": {
    "id": "9eaf1b9e"
   },
   "outputs": [],
   "source": []
  },
  {
   "cell_type": "code",
   "execution_count": null,
   "metadata": {
    "id": "9c837423"
   },
   "outputs": [],
   "source": [
    "from mod_macd_utils.macd import *"
   ]
  },
  {
   "cell_type": "code",
   "execution_count": null,
   "metadata": {
    "id": "0bf409b7"
   },
   "outputs": [],
   "source": [
    "macd_data = get_macd_signal_line(data, short_window, long_window, signal_window)"
   ]
  },
  {
   "cell_type": "code",
   "execution_count": null,
   "metadata": {
    "id": "2eed0c58",
    "outputId": "a26fa931-211c-4b1e-bfe6-16af152391dd"
   },
   "outputs": [
    {
     "data": {
      "text/html": [
       "<div>\n",
       "<style scoped>\n",
       "    .dataframe tbody tr th:only-of-type {\n",
       "        vertical-align: middle;\n",
       "    }\n",
       "\n",
       "    .dataframe tbody tr th {\n",
       "        vertical-align: top;\n",
       "    }\n",
       "\n",
       "    .dataframe thead th {\n",
       "        text-align: right;\n",
       "    }\n",
       "</style>\n",
       "<table border=\"1\" class=\"dataframe\">\n",
       "  <thead>\n",
       "    <tr style=\"text-align: right;\">\n",
       "      <th></th>\n",
       "      <th>price</th>\n",
       "      <th>SMA</th>\n",
       "      <th>LMA</th>\n",
       "      <th>MACD</th>\n",
       "      <th>signal_line</th>\n",
       "    </tr>\n",
       "    <tr>\n",
       "      <th>Date</th>\n",
       "      <th></th>\n",
       "      <th></th>\n",
       "      <th></th>\n",
       "      <th></th>\n",
       "      <th></th>\n",
       "    </tr>\n",
       "  </thead>\n",
       "  <tbody>\n",
       "    <tr>\n",
       "      <th>2010-01-04</th>\n",
       "      <td>442.267731</td>\n",
       "      <td>NaN</td>\n",
       "      <td>NaN</td>\n",
       "      <td>NaN</td>\n",
       "      <td>NaN</td>\n",
       "    </tr>\n",
       "    <tr>\n",
       "      <th>2010-01-05</th>\n",
       "      <td>443.772614</td>\n",
       "      <td>NaN</td>\n",
       "      <td>NaN</td>\n",
       "      <td>NaN</td>\n",
       "      <td>NaN</td>\n",
       "    </tr>\n",
       "    <tr>\n",
       "      <th>2010-01-06</th>\n",
       "      <td>445.906036</td>\n",
       "      <td>NaN</td>\n",
       "      <td>NaN</td>\n",
       "      <td>NaN</td>\n",
       "      <td>NaN</td>\n",
       "    </tr>\n",
       "    <tr>\n",
       "      <th>2010-01-07</th>\n",
       "      <td>437.604218</td>\n",
       "      <td>NaN</td>\n",
       "      <td>NaN</td>\n",
       "      <td>NaN</td>\n",
       "      <td>NaN</td>\n",
       "    </tr>\n",
       "    <tr>\n",
       "      <th>2010-01-08</th>\n",
       "      <td>429.980438</td>\n",
       "      <td>NaN</td>\n",
       "      <td>NaN</td>\n",
       "      <td>NaN</td>\n",
       "      <td>NaN</td>\n",
       "    </tr>\n",
       "  </tbody>\n",
       "</table>\n",
       "</div>"
      ],
      "text/plain": [
       "                 price  SMA  LMA  MACD  signal_line\n",
       "Date                                               \n",
       "2010-01-04  442.267731  NaN  NaN   NaN          NaN\n",
       "2010-01-05  443.772614  NaN  NaN   NaN          NaN\n",
       "2010-01-06  445.906036  NaN  NaN   NaN          NaN\n",
       "2010-01-07  437.604218  NaN  NaN   NaN          NaN\n",
       "2010-01-08  429.980438  NaN  NaN   NaN          NaN"
      ]
     },
     "execution_count": 13,
     "metadata": {},
     "output_type": "execute_result"
    }
   ],
   "source": [
    "macd_data.head()"
   ]
  },
  {
   "cell_type": "markdown",
   "metadata": {
    "id": "9wa7p-B35mmY"
   },
   "source": []
  },
  {
   "cell_type": "code",
   "execution_count": null,
   "metadata": {
    "id": "ccQ7iYpI5zJb"
   },
   "outputs": [],
   "source": []
  },
  {
   "cell_type": "markdown",
   "metadata": {
    "id": "JesY_QJF52Li"
   },
   "source": []
  },
  {
   "cell_type": "code",
   "execution_count": null,
   "metadata": {
    "id": "30383ee9"
   },
   "outputs": [],
   "source": []
  },
  {
   "cell_type": "code",
   "execution_count": null,
   "metadata": {
    "id": "37ca6866"
   },
   "outputs": [],
   "source": [
    "macd_signals = get_signal_macd_crossover(macd_data, long_window)"
   ]
  },
  {
   "cell_type": "code",
   "execution_count": null,
   "metadata": {
    "id": "c95a1ce7",
    "outputId": "d405cfaa-fa2b-4bdd-e857-a3c5d6d4f1f4"
   },
   "outputs": [
    {
     "data": {
      "text/html": [
       "<div>\n",
       "<style scoped>\n",
       "    .dataframe tbody tr th:only-of-type {\n",
       "        vertical-align: middle;\n",
       "    }\n",
       "\n",
       "    .dataframe tbody tr th {\n",
       "        vertical-align: top;\n",
       "    }\n",
       "\n",
       "    .dataframe thead th {\n",
       "        text-align: right;\n",
       "    }\n",
       "</style>\n",
       "<table border=\"1\" class=\"dataframe\">\n",
       "  <thead>\n",
       "    <tr style=\"text-align: right;\">\n",
       "      <th></th>\n",
       "      <th>price</th>\n",
       "      <th>buy_sell</th>\n",
       "    </tr>\n",
       "    <tr>\n",
       "      <th>Date</th>\n",
       "      <th></th>\n",
       "      <th></th>\n",
       "    </tr>\n",
       "  </thead>\n",
       "  <tbody>\n",
       "    <tr>\n",
       "      <th>2010-01-04</th>\n",
       "      <td>442.267731</td>\n",
       "      <td>NaN</td>\n",
       "    </tr>\n",
       "    <tr>\n",
       "      <th>2010-01-05</th>\n",
       "      <td>443.772614</td>\n",
       "      <td>0.0</td>\n",
       "    </tr>\n",
       "    <tr>\n",
       "      <th>2010-01-06</th>\n",
       "      <td>445.906036</td>\n",
       "      <td>0.0</td>\n",
       "    </tr>\n",
       "    <tr>\n",
       "      <th>2010-01-07</th>\n",
       "      <td>437.604218</td>\n",
       "      <td>0.0</td>\n",
       "    </tr>\n",
       "    <tr>\n",
       "      <th>2010-01-08</th>\n",
       "      <td>429.980438</td>\n",
       "      <td>0.0</td>\n",
       "    </tr>\n",
       "  </tbody>\n",
       "</table>\n",
       "</div>"
      ],
      "text/plain": [
       "                 price  buy_sell\n",
       "Date                            \n",
       "2010-01-04  442.267731       NaN\n",
       "2010-01-05  443.772614       0.0\n",
       "2010-01-06  445.906036       0.0\n",
       "2010-01-07  437.604218       0.0\n",
       "2010-01-08  429.980438       0.0"
      ]
     },
     "execution_count": 16,
     "metadata": {},
     "output_type": "execute_result"
    }
   ],
   "source": [
    "macd_signals.head()"
   ]
  },
  {
   "cell_type": "code",
   "execution_count": null,
   "metadata": {
    "id": "e1db5f68"
   },
   "outputs": [],
   "source": []
  },
  {
   "cell_type": "code",
   "execution_count": null,
   "metadata": {
    "id": "9b245f0f"
   },
   "outputs": [],
   "source": [
    "### homework\n",
    "\n",
    "- get signal based on macd and macd signal line\n",
    "\n"
   ]
  },
  {
   "cell_type": "code",
   "execution_count": null,
   "metadata": {
    "id": "64d2e9a0"
   },
   "outputs": [],
   "source": [
    "def get_signal_macd_signalline(macd_signal_line, long_window):\n",
    "    \"\"\"\n",
    "    Input: data frame with macd values and macd signal line\n",
    "    output: Trading signal from cross over of macd and macd signal line\n",
    "    Buy Signal = 1, Sell Signal = -1, Do nothing = 0\n",
    "    \"\"\"\n",
    "    signals = pd.DataFrame(index=macd_signal_line.index)\n",
    "    signals['price'] = macd_signal_line['price']\n",
    "    signals['buy_sell'] = 0.0\n",
    "    signals['buy_sell'][long_window:] = np.where((macd_signal_line.MACD)[long_window:] \n",
    "                                            > macd_signal_line.signal_line[long_window:], 1.0, 0.0)  \n",
    "    signals['buy_sell'] = signals['buy_sell'].diff()\n",
    "    # return buy and sell signal\n",
    "    return signals"
   ]
  },
  {
   "cell_type": "code",
   "execution_count": null,
   "metadata": {
    "id": "6bdb004d"
   },
   "outputs": [],
   "source": []
  }
 ],
 "metadata": {
  "colab": {
   "name": "301_macd_automation.ipynb",
   "provenance": []
  },
  "kernelspec": {
   "display_name": "Python 3",
   "language": "python",
   "name": "python3"
  },
  "language_info": {
   "codemirror_mode": {
    "name": "ipython",
    "version": 3
   },
   "file_extension": ".py",
   "mimetype": "text/x-python",
   "name": "python",
   "nbconvert_exporter": "python",
   "pygments_lexer": "ipython3",
   "version": "3.9.7"
  }
 },
 "nbformat": 4,
 "nbformat_minor": 5
}
